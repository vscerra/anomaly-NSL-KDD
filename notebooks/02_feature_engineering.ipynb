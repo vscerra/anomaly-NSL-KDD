{
 "cells": [
  {
   "cell_type": "markdown",
   "id": "39dc2cec-fdf4-46f3-9082-04dc788e6df4",
   "metadata": {},
   "source": [
    "# Notebook for feature engineering for NSL-KDD dataset in preparation for modeling and analysis"
   ]
  },
  {
   "cell_type": "markdown",
   "id": "19e51f38-c82e-4a04-97f7-deea5a9cf63a",
   "metadata": {},
   "source": [
    "## Setup"
   ]
  },
  {
   "cell_type": "code",
   "execution_count": 1,
   "id": "bbaf37f1-a666-40d4-95ef-6ed2ddb51c85",
   "metadata": {},
   "outputs": [
    {
     "data": {
      "text/plain": [
       "(125973, 34)"
      ]
     },
     "execution_count": 1,
     "metadata": {},
     "output_type": "execute_result"
    }
   ],
   "source": [
    "import pandas as pd\n",
    "import numpy as np\n",
    "import matplotlib.pyplot as plt\n",
    "import seaborn as sns\n",
    "\n",
    "%matplotlib inline\n",
    "sns.set(style = 'whitegrid')\n",
    "\n",
    "from sklearn.model_selection import train_test_split\n",
    "\n",
    "# load processed data\n",
    "df = pd.read_csv(\"../data/processed/KDDTrain+_processed.csv\")\n",
    "df.shape"
   ]
  },
  {
   "cell_type": "markdown",
   "id": "6238400c-8a69-432f-bc8d-5e80a6bf41bf",
   "metadata": {},
   "source": [
    "## Check Label Distribution"
   ]
  },
  {
   "cell_type": "code",
   "execution_count": 2,
   "id": "d6c00c84-930f-4791-88e0-41caa15e5c34",
   "metadata": {},
   "outputs": [
    {
     "data": {
      "image/png": "[encoded data removed]",
      "text/plain": [
       "<Figure size 640x480 with 1 Axes>"
      ]
     },
     "metadata": {},
     "output_type": "display_data"
    }
   ],
   "source": [
    "df['binary_label'].value_counts(normalize = True).plot(kind = 'bar')\n",
    "plt.title('Class Distribution (binary)')\n",
    "plt.ylabel('Proportion')\n",
    "plt.xticks(ticks = [0, 1], labels = ['Normal (0)', 'Anomaly (1)'], rotation = 0)\n",
    "plt.show()"
   ]
  },
  {
   "cell_type": "markdown",
   "id": "8c22b7fc-b9b8-4e79-8812-a32889921b49",
   "metadata": {},
   "source": [
    "## Define Features and Target"
   ]
  },
  {
   "cell_type": "code",
   "execution_count": 3,
   "id": "4ad855db-1554-4950-aa48-f26a321b2874",
   "metadata": {},
   "outputs": [
    {
     "name": "stdout",
     "output_type": "stream",
     "text": [
      "X shape: (125973, 33)\n",
      "y distribution: {0: 67343, 1: 58630}\n"
     ]
    }
   ],
   "source": [
    "# define features and target\n",
    "X = df.drop(columns = ['binary_label'])\n",
    "y = df['binary_label']\n",
    "\n",
    "print(f\"X shape: {X.shape}\")\n",
    "print(f\"y distribution: {y.value_counts().to_dict()}\")"
   ]
  },
  {
   "cell_type": "markdown",
   "id": "5a152e22-52db-46f5-aae9-3d8ef5da1127",
   "metadata": {},
   "source": [
    "## Optional Feature Inspection"
   ]
  },
  {
   "cell_type": "code",
   "execution_count": 4,
   "id": "74bf92a2-3796-463a-9f53-cad27fcaccaa",
   "metadata": {},
   "outputs": [
    {
     "data": {
      "text/plain": [
       "hot                       1.000008\n",
       "wrong_fragment            1.000008\n",
       "duration                  1.000008\n",
       "land                      1.000008\n",
       "num_file_creations        1.000008\n",
       "protocol_type             1.000008\n",
       "same_srv_rate             1.000008\n",
       "dst_host_diff_srv_rate    1.000008\n",
       "dst_host_same_srv_rate    1.000008\n",
       "dst_host_srv_count        1.000008\n",
       "dtype: float64"
      ]
     },
     "execution_count": 4,
     "metadata": {},
     "output_type": "execute_result"
    }
   ],
   "source": [
    "# check for any remaining constant or low-variance features\n",
    "low_var = X.var().sort_values().head(10)\n",
    "low_var"
   ]
  },
  {
   "cell_type": "markdown",
   "id": "bec55395-fde5-439a-9952-df70514c19b2",
   "metadata": {},
   "source": [
    "## Train-Test Split (Stratified)"
   ]
  },
  {
   "cell_type": "code",
   "execution_count": 5,
   "id": "0996e38c-df9c-4490-902e-5c7f96beb70a",
   "metadata": {},
   "outputs": [
    {
     "name": "stdout",
     "output_type": "stream",
     "text": [
      "Train Shape: (100778, 33), Test Shape: (25195, 33)\n"
     ]
    }
   ],
   "source": [
    "X_train, X_test, y_train, y_test = train_test_split(\n",
    "    X, y,\n",
    "    test_size = 0.2,\n",
    "    stratify = y,\n",
    "    random_state = 42\n",
    ")\n",
    "\n",
    "print(f\"Train Shape: {X_train.shape}, Test Shape: {X_test.shape}\")"
   ]
  },
  {
   "cell_type": "markdown",
   "id": "f3223920-ac8a-42cf-8e26-eedd982b8bc4",
   "metadata": {},
   "source": [
    "## Save for Modeling"
   ]
  },
  {
   "cell_type": "code",
   "execution_count": 6,
   "id": "e7cafc0e-2d29-42dd-9ae7-836c2729b4cc",
   "metadata": {},
   "outputs": [
    {
     "name": "stdout",
     "output_type": "stream",
     "text": [
      "Saved train/test splits to /data/processed\n"
     ]
    }
   ],
   "source": [
    "X_train.to_csv(\"../data/processed/X_train.csv\", index = False)\n",
    "X_test.to_csv(\"../data/processed/X_test.csv\", index = False)\n",
    "y_train.to_csv(\"../data/processed/y_train.csv\", index = False)\n",
    "y_test.to_csv(\"../data/processed/y_test.csv\", index = False)\n",
    "\n",
    "print(\"Saved train/test splits to /data/processed\")"
   ]
  }
 ],
 "metadata": {
  "kernelspec": {
   "display_name": "Python 3 (ipykernel)",
   "language": "python",
   "name": "python3"
  },
  "language_info": {
   "codemirror_mode": {
    "name": "ipython",
    "version": 3
   },
   "file_extension": ".py",
   "mimetype": "text/x-python",
   "name": "python",
   "nbconvert_exporter": "python",
   "pygments_lexer": "ipython3",
   "version": "3.9.21"
  }
 },
 "nbformat": 4,
 "nbformat_minor": 5
}
